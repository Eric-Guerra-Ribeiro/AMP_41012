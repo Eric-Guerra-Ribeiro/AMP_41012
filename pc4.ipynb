{
 "cells": [
  {
   "cell_type": "markdown",
   "metadata": {},
   "source": [
    "# PC 4 : Méthodes directes pour la résolution de systèmes linéaires"
   ]
  },
  {
   "cell_type": "markdown",
   "metadata": {},
   "source": [
    "**<big> Préparation avant la PC :</big>** \n",
    "**Les questions 1 et 2 de l'exercice 1 sont à préparer** avant la séance. "
   ]
  },
  {
   "cell_type": "code",
   "execution_count": 4,
   "metadata": {},
   "outputs": [],
   "source": [
    "# Ce package permet de travailler efficacement avec des tableaux\n",
    "import numpy as np\n",
    "# Ce package propose de fonctions d'aglebre lineaire (inverse, determinant...)\n",
    "import numpy.linalg as lin\n",
    "# Ces fonctions sont utilisees comme reference pour la decomposition LU\n",
    "from scipy.linalg import lu_factor, lu_solve, solve_banded\n",
    "\n",
    "# Ce package permet de faire des sorties graphiques\n",
    "from matplotlib import pyplot as plt\n",
    "\n",
    "# Cette fonction permet de comparer des temps d'execution\n",
    "from time import time"
   ]
  },
  {
   "cell_type": "markdown",
   "metadata": {},
   "source": [
    ">**Rappels et notations :**\n",
    ">\n",
    ">- Étant donnée une norme $\\left\\Vert \\cdot \\right\\Vert$ sur $\\mathbb K^n$ ($\\mathbb{K}=\\mathbb{R}$ ou $\\mathbb{C}$), on définit la norme subordonnée associée sur $M_n(\\mathbb{K})$ par\n",
    ">\n",
    ">$$\\left\\Vert A \\right\\Vert = \\sup_{\\substack{x\\in\\mathbb{K}^n \\\\ x\\neq 0}} \\frac{\\left\\Vert Ax \\right\\Vert}{\\left\\Vert x \\right\\Vert} = \\max_{\\substack{x\\in\\mathbb{K}^n \\\\ \\left\\Vert x \\right\\Vert= 1}}\\left\\Vert Ax \\right\\Vert.$$\n",
    ">\n",
    ">- Une norme $\\left\\Vert \\cdot \\right\\Vert$ sur $M_n(\\mathbb K)$ ($\\mathbb K = \\mathbb R$ ou $\\mathbb C$) est dite matricielle (ou d'algèbre) si \n",
    ">\n",
    ">$$\\forall A,B \\in M_n(\\mathbb K),\\quad{} \\left\\Vert AB\\right\\Vert \\leq \\left\\Vert A\\right\\Vert \\left\\Vert B\\right\\Vert.$$\n",
    ">\n",
    ">- Les normes subordonnées sont des normes matricielles. Il existe des normes matricielles qui ne sont pas des normes subordonnées, par exemple la norme de Frobenius : $\\left\\Vert A\\right\\Vert_F = \\sqrt{\\mathrm{tr}(A^{*}A)}$.\n",
    ">\n",
    ">- Pour tout matrice $A\\in M_n(\\mathbb{K})$ inversible, on définit son conditionnement, associé à une norme subordonnée $\\left\\Vert \\cdot \\right\\Vert$, par\n",
    ">\n",
    ">$$\\kappa(A) = \\Vert A \\Vert \\Vert A^{-1} \\Vert.$$\n",
    ">\n",
    ">- Soit $A\\in M_n(\\mathbb{K})$, on appelle rayon spectral de $A$ la quantité\n",
    ">\n",
    ">$$\\rho(A)=\\max\\limits_{\\lambda\\in \\mathrm{Sp}(A)} \\vert\\lambda\\vert.$$\n",
    ">\n",
    ">- Si $A$ est une matrice normale (c'est à dire telle que $A^*A=AA^*$), $\\left\\Vert A \\right\\Vert_2 = \\rho(A)$."
   ]
  },
  {
   "cell_type": "markdown",
   "metadata": {},
   "source": [
    "---"
   ]
  },
  {
   "cell_type": "markdown",
   "metadata": {},
   "source": [
    "## Exercice 1 : Conditionnement"
   ]
  },
  {
   "cell_type": "markdown",
   "metadata": {},
   "source": [
    "### Question 1 : Conditionnement local par rapport au second membre\n",
    "\n",
    ">Soit $A$ est une matrice réelle inversible de taille $n \\times n$. Pour un vecteur $b \\in \\mathbb{R}^n$ on cherche à résoudre le système\n",
    ">\n",
    ">$$ Ax=b, $$\n",
    ">\n",
    ">et on note $\\mathcal{P}(b)=A^{-1}b$ avec $A$ fixée. On étudie la variabilité de la solution $x$ par rapport aux erreurs sur le terme $b$ à droite du système. Pour cela, on définit le *conditionnement local* associé au problème $\\mathcal{P}$ pour tout $b \\in \\mathbb{R}^n\\setminus\\{0\\}$ par\n",
    ">\n",
    ">$$\\kappa_b(A) = \\frac{1}{\\varepsilon} \\sup_{\\frac{\\left\\Vert \\delta b \\right\\Vert}{\\left\\Vert b \\right\\Vert}\\leq \\varepsilon} \\frac{\\left\\Vert \\mathcal{P}(b+\\delta b) - \\mathcal{P}(b) \\right\\Vert}{\\left\\Vert \\mathcal{P}(b) \\right\\Vert}.$$\n",
    "\n",
    "$1$. Comparer $\\kappa_b(A)$ et $\\kappa(A)$."
   ]
  },
  {
   "cell_type": "markdown",
   "metadata": {},
   "source": [
    "$$\\kappa_b(A) = \\frac{1}{\\varepsilon} \\sup_{\\frac{\\left\\Vert \\delta b \\right\\Vert}{\\left\\Vert b \\right\\Vert}\\leq \\varepsilon} \\frac{\\left\\Vert A^{-1}(\\cancel{b} + \\delta b) - \\cancel{A^{-1}b} \\right\\Vert}{\\left\\Vert A^{-1}b \\right\\Vert} = \\frac{1}{\\varepsilon \\| A^{-1}b} \\| \\sup_{\\left\\Vert \\delta b \\right\\Vert \\leq \\varepsilon\\left\\Vert b \\right\\Vert}  \\left\\Vert A^{-1}\\delta b  \\right\\Vert \\cdot \\frac{\\| b \\|}{ \\| b \\|} \\cdot \\frac{\\| \\delta b \\|}{\\| \\delta b \\|}  = \\frac{1}{\\| A^{-1}b \\|} \\sup_{\\left\\Vert \\delta b \\right\\Vert = 1}  \\left\\Vert A^{-1}\\delta b  \\right\\Vert \\| b\\| = \\frac{\\| b \\|}{\\| A^{-1}b \\|}  \\sup_{\\left\\Vert \\delta b \\right\\Vert = 1}  \\left\\Vert A^{-1}\\delta b  \\right\\Vert $$\n",
    "\n",
    "$$\\kappa_b(A) = \\frac{\\| b \\|}{\\| A^{-1}b \\|}  \\| A^{-1} \\| = \\frac{\\| AA^{-1} b \\|}{\\| A^{-1}b \\|}  \\| A^{-1} \\| \\leq \\frac{\\| A \\| \\| A^{-1} b \\|}{\\| A^{-1}b \\|}  \\| A^{-1} \\| = \\|A \\| \\| A^{-1} \\| = \\kappa(A) $$"
   ]
  },
  {
   "cell_type": "markdown",
   "metadata": {},
   "source": [
    "$2$.  Montrer qu'il existe $b_1 \\in \\mathbb{R}^n\\setminus\\{0\\}$ tel que $\\kappa_{b_1}(A) = \\kappa(A)$, et $b_2 \\in \\mathbb{R}^n\\setminus\\{0\\}$ tel que $\\kappa_{b_2}(A) = 1$."
   ]
  },
  {
   "cell_type": "markdown",
   "metadata": {},
   "source": [
    "$$ \\exists b \\text{ t.q } \\frac{\\| A^{-1}b \\|}{\\| b \\|} = \\| A^{-1}\\| \\rightarrow \\kappa_b = 1 $$\n",
    "\n",
    "$$ \\exists b \\text{ t.q } \\frac{\\| Ab\\|}{\\| b \\|} = \\| A\\| \\rightarrow \\hat{b} = Ab \\rightarrow \\kappa_{\\hat{b}} (A) = \\frac{\\| Ab \\|}{\\| b \\|} \\|A^{1} \\| = \\kappa(A) $$"
   ]
  },
  {
   "cell_type": "markdown",
   "metadata": {},
   "source": [
    "$3$. Montrer que, pour tout $b \\in \\mathbb{R}^n\\setminus\\{0\\}$ et tout $\\delta b \\in \\mathbb{R}^n\\setminus\\{0\\}$, si\n",
    "\n",
    "$$ Ax=b \\qquad{}\\text{et}\\qquad{} A(x+\\delta x)=b+\\delta b, $$\n",
    "\n",
    "alors\n",
    "\n",
    "$$ \\frac{\\left\\Vert \\delta x \\right\\Vert}{\\left\\Vert x \\right\\Vert} \\leq \\kappa_b(A) \\frac{\\left\\Vert \\delta b \\right\\Vert}{\\left\\Vert b \\right\\Vert} \\leq \\kappa(A) \\frac{\\left\\Vert \\delta b \\right\\Vert}{\\left\\Vert b \\right\\Vert}. $$"
   ]
  },
  {
   "cell_type": "markdown",
   "metadata": {},
   "source": [
    "$$\\delta x = x + \\delta x - x = A^{-1} (b + \\delta b) - A^{-1}b = A^{-1} \\delta b$$\n",
    "\n",
    "$$\\frac{\\| \\delta x \\|}{ \\| x \\|} = \\frac{\\| A^{-1}\\delta b \\|}{ \\| A^{-1} b \\|} \\frac{\\|b \\|}{\\| \\delta b \\| } \\frac{\\| \\delta b \\|}{\\| b \\|} \\leq \\| A^{-1} \\| \\frac{b}{A^{-1}b} \\frac{\\| \\delta b \\|}{\\| b \\|} = \\kappa_b \\frac{\\| \\delta b \\|}{\\| b \\|}$$"
   ]
  },
  {
   "cell_type": "markdown",
   "metadata": {},
   "source": [
    "### Question 2 : Conditionnement par rapport à la matrice et au second membre\n",
    "\n",
    ">On étudie dans un premier temps la variabilité de la solution $x$ par rapport aux erreurs sur la matrice $A$ seule. "
   ]
  },
  {
   "cell_type": "markdown",
   "metadata": {},
   "source": [
    "$1$. Montrer que pour tout $\\delta A$ telle que $\\|\\delta A\\| < \\frac{1}{\\|A^{-1}\\|}$ alors $A+\\delta A$ est inversible. Et montrer que \n",
    "\n",
    "$$\\|(A+\\delta A)^{-1}\\| \\le \\frac{\\|A^{-1}\\|}{1-\\|A^{-1}\\|\\|\\delta A\\|}.$$\n",
    "\n",
    "$2$. Montrer que pour tout $\\delta A$ et $\\delta x$ satisfaisant\n",
    "\n",
    "$$ (A+\\delta A) (x+\\delta x) = b,$$\n",
    "\n",
    "alors on a l'estimation \n",
    "\n",
    "$$ \\frac{\\|\\delta x\\|}{\\|x + \\delta x\\|} \\le \\kappa \\frac{\\|\\delta A\\|}{\\|A\\|}. $$"
   ]
  },
  {
   "cell_type": "markdown",
   "metadata": {},
   "source": [
    "1. $A(Id + A^{-1} \\delta A) \\Rightarrow (Id + A^{-1}\\delta A)^{-1} = \\sum \\limits ^{+ \\infty} _{k=0} (-1)^k (A^{-1} \\delta A)^k$\n",
    "   \n",
    "   Converge car $\\| A^{-1} \\delta A \\| \\leq \\| A^{-1} \\| \\| \\delta A \\| < 1$\n",
    "\n",
    "   $\\| (Id + A^{-1}\\delta A) V \\| = 0$\n",
    "\n",
    "   $\\| (Id + A^{-1}\\delta A) V \\| = \\| V + A^{-1} \\delta A V \\| \\geq (1 - \\| A^{-1} \\delta A\\| ) \\| V \\| \\geq (1 - \\|A^{-1} \\| \\| \\delta A \\| ) \\|V\\|$\n",
    "\n",
    "   $\\| (A + \\delta A)^-1 \\| \\leq \\| A^{-1} \\| \\| (Id + A^{-1} \\delta A )^{-1}\\|$\n",
    "\n",
    "   $\\| (Id + A^{-1}\\delta A)^{-1} \\|  = \\sup_V \\frac{\\| (Id + A^{-1} \\delta A)V \\|}{\\| V \\|} = \\sup_W \\frac{\\|W\\|}{\\|(Id + A^{-1}\\delta A)W\\|} \\leq \\frac{1}{1 - \\|A^{-1} \\| \\| \\delta A\\|}$\n",
    "\n",
    "   $\\therefore \\| (A+ \\delta A)^{-1} \\| \\leq \\frac{\\|A^{-1}\\|}{1 - \\| A ^{-1} \\| \\| \\delta A \\|}$\n",
    "\n",
    "2. $\\frac{\\| \\delta x \\|}{\\| x \\|} = \\frac{\\| \\mathcal{P}(A + \\delta A) - \\mathcal{P}(A) \\|}{\\| \\mathcal{P}(A) \\|} \\rightarrow \\frac{\\| \\delta x \\|}{\\| x + \\delta x \\|} = \\frac{\\| \\mathcal{P}(A + \\delta A) - \\mathcal{P}(A) \\|}{\\| \\mathcal{P}(A + \\delta A) \\|}$\n",
    "   \n",
    "   $\\delta x = - A^{-1}\\delta A (x + \\delta x)$\n",
    "\n",
    "   car $(A + \\delta A)(x + \\delta x) = b = A(x + \\delta x) + \\delta A (x + \\delta x)$, $Ax = b = A(x +\\delta x ) - A\\delta x$\n",
    "\n",
    "   $\\| \\delta x \\| \\leq \\| A^{-1} \\| \\| \\delta A \\| \\| x + \\delta x \\|$\n",
    "\n",
    "   $\\frac{\\| \\delta x \\|}{\\| x + \\delta x \\|} \\leq \\kappa \\frac{\\| \\delta A\\|}{\\| A \\|}$"
   ]
  },
  {
   "cell_type": "markdown",
   "metadata": {},
   "source": [
    "> On étudie finalement la variabilité de la solution $x$ par rapport aux erreurs sur la matrice $A$ et sur le second membre $b$ ensemble. "
   ]
  },
  {
   "cell_type": "markdown",
   "metadata": {},
   "source": [
    "$3$. On écrit désormais \n",
    "\n",
    "$$ (A+\\delta A) (x+\\delta x) = b+\\delta b.$$ \n",
    "\n",
    "Montrer que pour tout $\\delta A$ telle que $\\|\\delta A\\| < \\frac{1}{\\|A^{-1}\\|}$, on a \n",
    "\n",
    "$$\\frac{\\|\\delta x\\|}{\\| x \\|} \\le \\frac{\\kappa}{1-\\|A^{-1}\\|\\|\\delta A\\|} \\left(\\frac{\\|\\delta A\\|}{\\|A\\|} + \\frac{\\|\\delta b\\|}{\\|b\\|}\\right).$$"
   ]
  },
  {
   "cell_type": "markdown",
   "metadata": {},
   "source": [
    "$(A + \\delta A)(x +\\delta x) = b + \\delta b$, $Ax = b$\n",
    "\n",
    "$x + \\delta x = (Id + A^{-1}\\delta A)^{-1}A ^{-1} (\\delta b + Ax)$\n",
    "\n",
    "$\\delta x = (Id + A^{-1}\\delta A)^{-1} A^{-1} (\\delta b + \\cancel{Ax} - A(\\cancel{Id} + A^{-1} \\delta A) x) = (Id + A^{-1}\\delta A)^{-1} A^{-1} (\\delta b - \\delta Ax)$\n",
    "\n",
    "$\\frac{\\|\\delta x \\|}{\\| x \\|} \\leq \\frac{\\| A^{-1} \\|}{1 - \\| A^{-1} \\| \\| \\delta A \\|}(\\| \\delta b \\| + \\| \\delta A x \\|) \\frac{1}{\\| x \\|} \\leq \\frac{K}{1 - \\| A^{-1}\\| \\| \\delta A\\|}(\\| \\delta b \\| + \\| \\delta Ax \\|) \\frac{1}{\\|A \\| \\|x \\|}$\n",
    "\n",
    "$\\frac{\\| \\delta A x \\|}{\\| x \\| \\| A \\|} \\leq \\frac{\\| \\delta A \\|}{\\| A \\|}$\n",
    "\n",
    "$\\frac{\\| \\delta b \\|}{\\| x \\| \\| A \\|} \\leq \\frac{\\| \\delta b \\|}{\\| Ax \\|} = \\frac{\\| \\delta b \\|}{\\| b \\|}$"
   ]
  },
  {
   "cell_type": "markdown",
   "metadata": {},
   "source": [
    "$4$. On revient sur les systèmes $Ax = b$ de la PC1 avec\n",
    "\n",
    "- a) $A = \\left( \\begin{array}{cc} 1+\\alpha & -1 \\\\ 1 & -1 \\end{array}\\right)$ et $b = \\left(\\begin{array}{c} \\alpha \\\\ 0 \\end{array}\\right)$, \n",
    "- b) $A = \\left( \\begin{array}{cc}   \\alpha &  1 \\\\ 1 &  1 \\end{array}\\right)$ et $b = \\left(\\begin{array}{c} 1 \\\\ 2 \\end{array}\\right)$.\n",
    "\n",
    "Donner une estimation de $\\frac{\\|\\delta x\\|_\\infty}{\\|x\\|_\\infty}$ dans chaque cas en fonction de $\\alpha$ et évaluer pour $\\alpha = 2^{-52}$. "
   ]
  },
  {
   "cell_type": "markdown",
   "metadata": {},
   "source": [
    "### Question 3\n",
    "\n",
    "Montrez que si $A$ est une matrice symétrique réelle alors\n",
    "  \n",
    "$$ \\kappa_2(A) = \\frac{\\max\\limits_{\\lambda\\in Sp(A)} \\vert\\lambda\\vert}{\\min\\limits_{\\lambda\\in Sp(A)} \\vert\\lambda\\vert}, $$\n",
    "\n",
    "où $\\kappa_2$ désigne le conditionnement pour la norme $\\left\\Vert \\cdot \\right\\Vert_2$.\n",
    "\n",
    "*Indication :* On pourra utiliser le fait que $A$ est diagonalisable dans une base orthonormée. "
   ]
  },
  {
   "cell_type": "markdown",
   "metadata": {},
   "source": [
    "$ A = QDQ^{T}$\n",
    "\n",
    "$x = \\sum\\limits_i b_i e_i$\n",
    "\n",
    "$Ax = \\sum\\limits_i b_i \\lambda_i e_i \\rightarrow e_i \\perp e_j$\n",
    "\n",
    "$\\|Ax\\|_2^2 = \\sum\\limits_i b_i^2\\lambda_i ^2 \\leq \\max_j |\\lambda_j|^2 \\sum\\limits_i b_i ^2 = \\max|\\lambda_j| \\|x\\|^2_2$\n",
    "\n",
    "$\\| A \\| \\leq \\max_j |\\lambda _j |$ et $\\| A e_i \\|_2 = \\max_j |\\lambda_j | \\| e_j \\|_2$\n",
    "\n",
    "$A^{-1}x = \\sum\\limits_i \\frac{b_i}{\\lambda_i}e_i$\n",
    "\n",
    "$\\|A\\|_2 = \\max |\\lambda_j|$"
   ]
  },
  {
   "cell_type": "markdown",
   "metadata": {},
   "source": [
    "### Question 4\n",
    "\n",
    "Considérons l'exemple suivant (attribué à H. Rutishauser [1]) : \n",
    "    \n",
    "$$\n",
    "    A=\\begin{pmatrix}\n",
    "      10 & 1 & 4 & 0 \\\\\n",
    "      1  & 10& 5 & -1\\\\\n",
    "      4 & 5 & 10 & 7 \\\\\n",
    "      0 & -1 & 7 & 9\n",
    "    \\end{pmatrix}\n",
    "    \\text{ avec } \n",
    "    b_1 = \\begin{pmatrix}\n",
    "    15\\\\15\\\\26\\\\15\n",
    "    \\end{pmatrix}\n",
    "    \\text{ et }\n",
    "    b_2 = \\begin{pmatrix}\n",
    "    16\\\\16\\\\25\\\\16\n",
    "    \\end{pmatrix}\n",
    "$$"
   ]
  },
  {
   "cell_type": "code",
   "execution_count": 47,
   "metadata": {},
   "outputs": [],
   "source": [
    "# definition de la matrice\n",
    "A = np.array([[10.,  1.,  4.,  0.],\n",
    "              [ 1., 10.,  5., -1.],\n",
    "              [ 4.,  5., 10.,  7.],\n",
    "              [ 0., -1.,  7.,  9.]])\n",
    "\n",
    "# defition des vecteurs\n",
    "b1 = np.array([15.,  15.,  26.,  15.])\n",
    "b2 = np.array([16.,  16.,  25.,  16.])"
   ]
  },
  {
   "cell_type": "markdown",
   "metadata": {},
   "source": [
    "$1$. **<font color=black><span style=\"background-color:skyblue\"> À rendre :</span></font>** Calculer le déterminant de $A$ et l'inverse de $A$ avec les fonctions *numpy.linalg.det* et *numpy.linalg.inv*."
   ]
  },
  {
   "cell_type": "code",
   "execution_count": 48,
   "metadata": {},
   "outputs": [
    {
     "name": "stdout",
     "output_type": "stream",
     "text": [
      "Déterminant via det : 1.0000000000003961\n",
      "Inverse     via inv :\n",
      "[[ 105.  167. -304.  255.]\n",
      " [ 167.  266. -484.  406.]\n",
      " [-304. -484.  881. -739.]\n",
      " [ 255.  406. -739.  620.]]\n"
     ]
    }
   ],
   "source": [
    "print(f\"Déterminant via det : {lin.det(A)}\")\n",
    "\n",
    "inv_A = lin.inv(A)\n",
    "\n",
    "print(f\"Inverse     via inv :\\n{inv_A}\")"
   ]
  },
  {
   "cell_type": "markdown",
   "metadata": {},
   "source": [
    "$2$. **<font color=black><span style=\"background-color:skyblue\"> À rendre :</span></font>** Résoudre les systèmes $Ax_1=b_1$ et $Ax_2 = b_2$ en utilisant soit l'inverse trouvée ci-dessus, soit *numpy.linalg.solve*. Calculer l'erreur relative $\\frac{\\|x_1-x_2\\|}{\\|x_1\\|}$ et commenter cette valeur. En déduire une borne inférieure sur le conditionnement (en norme 2)."
   ]
  },
  {
   "cell_type": "code",
   "execution_count": 49,
   "metadata": {},
   "outputs": [
    {
     "name": "stdout",
     "output_type": "stream",
     "text": [
      "Erreur relative sur x : 1754.9753559523897\n",
      "borne inf du conditionnement : 32252.8948836391\n"
     ]
    }
   ],
   "source": [
    "x2 = lin.solve(A, b2)\n",
    "x1 = lin.solve(A, b1)\n",
    "\n",
    "relative_error = np.linalg.vector_norm(x1 - x2, ord=2)/lin.vector_norm(x1, ord=2)\n",
    "\n",
    "print(f\"Erreur relative sur x : {relative_error}\")\n",
    "print(f\"borne inf du conditionnement : {relative_error*lin.vector_norm(b1)/lin.vector_norm(b1 - b2)}\")"
   ]
  },
  {
   "cell_type": "markdown",
   "metadata": {},
   "source": [
    "**Réponse :** "
   ]
  },
  {
   "cell_type": "markdown",
   "metadata": {},
   "source": [
    "$3$. **<font color=black><span style=\"background-color:skyblue\"> À rendre :</span></font>** Calculer le conditionnement (en norme 2) de $A$ **par les deux** méthodes suivantes :\n",
    "- calculer les valeurs propres de $A$ avec *numpy.linalg.eig* et en utilisant la question 2,\n",
    "- utiliser *numpy.linalg.cond*."
   ]
  },
  {
   "cell_type": "code",
   "execution_count": 50,
   "metadata": {},
   "outputs": [
    {
     "name": "stdout",
     "output_type": "stream",
     "text": [
      "Conditionnement via eig  : 35792.39762891995\n",
      "Conditionnement via cond : 35792.39762881384\n"
     ]
    }
   ],
   "source": [
    "eigen_values = lin.eigvals(A)\n",
    "\n",
    "eigen_max = np.max(np.abs(eigen_values))\n",
    "eigen_min = np.min(np.abs(eigen_values))\n",
    "\n",
    "print(f\"Conditionnement via eig  : {eigen_max/eigen_min}\")\n",
    "print(f\"Conditionnement via cond : {lin.cond(A)}\")"
   ]
  },
  {
   "cell_type": "markdown",
   "metadata": {},
   "source": [
    "$4$. **<font color=black><span style=\"background-color:skyblue\"> À rendre :</span></font>** Trouver un vecteur $b$ tel que, pour toute perturbation $\\delta b$, on ait \n",
    "\n",
    "$$\\frac{\\left\\Vert \\delta x \\right\\Vert_2}{\\left\\Vert x \\right\\Vert_2} \\leq  \\frac{\\left\\Vert \\delta b \\right\\Vert_2}{\\left\\Vert b \\right\\Vert_2}.$$\n",
    "\n",
    "*Justifiez votre réponse de manière théorique. On vérifiera ensuite numériquement que l'inégalité est vérifiée au moins pour 4 vecteurs de perturbation $\\delta b$ linéairement indépendant.*"
   ]
  },
  {
   "cell_type": "markdown",
   "metadata": {},
   "source": [
    "**Réponse :** \n",
    "\n",
    "On a $x = A^{-1} b$ et $\\delta x = A^{-1} \\delta b$. Alors, pour que la expréssion soit vraie:\n",
    "\n",
    "$$\\frac{\\left\\Vert A^{-1}\\delta b \\right\\Vert_2}{\\left\\Vert A^{-1}b \\right\\Vert_2} = \\frac{\\left\\Vert \\delta x \\right\\Vert_2}{\\left\\Vert x \\right\\Vert_2} \\leq  \\frac{\\left\\Vert \\delta b \\right\\Vert_2}{\\left\\Vert b \\right\\Vert_2}$$\n",
    "\n",
    "On rearrange:\n",
    "\n",
    "$$\\frac{\\left\\Vert A^{-1}\\delta b \\right\\Vert_2}{\\left\\Vert \\delta b \\right\\Vert_2} \\leq  \\frac{\\left\\Vert A^{-1}b \\right\\Vert_2}{\\left\\Vert b \\right\\Vert_2}$$\n",
    "\n",
    "Alors, on cherche $b$ tel que:\n",
    "\n",
    "$$\\sup\\limits_{b} \\frac{\\left\\Vert A^{-1}b \\right\\Vert_2}{\\left\\Vert b \\right\\Vert_2} $$\n",
    "\n",
    "Donc, $b$ est la vecteur propre de $A^{-1}$ dont la valeur propre est maximale en module."
   ]
  },
  {
   "cell_type": "code",
   "execution_count": 51,
   "metadata": {},
   "outputs": [
    {
     "name": "stdout",
     "output_type": "stream",
     "text": [
      "vecteur considéré : [ 0.23674149  0.37692363 -0.68605301  0.57551135]\n",
      "Erreur relative sur x : 57.57%\n",
      "Erreur relative sur b : 146.30%\n"
     ]
    }
   ],
   "source": [
    "eigenvalues, eigenvectors = lin.eig(inv_A)\n",
    "\n",
    "max_eigen = 0\n",
    "b = None\n",
    "\n",
    "for eigenvalue, eigenvector in zip(eigenvalues, eigenvectors.T):\n",
    "    if np.abs(eigenvalue) > np.abs(max_eigen):\n",
    "        b = eigenvector\n",
    "        max_eigen = eigenvalue\n",
    "\n",
    "x = max_eigen*b\n",
    "\n",
    "delta_b = np.random.random(size=b.size)\n",
    "delta_x = inv_A*delta_b\n",
    "\n",
    "print(f\"vecteur considéré : {b}\")\n",
    "print(f\"Erreur relative sur x : {100*lin.vector_norm(delta_x)/lin.vector_norm(x):.2f}%\")\n",
    "print(f\"Erreur relative sur b : {100*lin.vector_norm(delta_b)/lin.vector_norm(b):.2f}%\")\n",
    "\n",
    "for _ in range(1000):\n",
    "    delta_b = np.random.random(size=b.size)\n",
    "    delta_x = inv_A*delta_b\n",
    "\n",
    "    assert lin.vector_norm(delta_x)/lin.vector_norm(x) <= lin.vector_norm(delta_b)/lin.vector_norm(b)"
   ]
  },
  {
   "cell_type": "markdown",
   "metadata": {},
   "source": [
    "### Question 5 :\n",
    "\n",
    "1) On rappelle que le polynôme d'interpolation aux points de Tchebychev dans la base polynomiale de Tchebychev s'écrit \n",
    "\n",
    "$$ p_n(f) = \\sum\\limits_{i=0}^n c_i T_i, \\qquad{} \\text{avec}\\qquad{} c_0 = \\frac{1}{n+1}\\sum_{i=0}^n T_0(x_i) y_i, \\qquad{} c_j = \\frac{2}{n+1}\\sum_{i=0}^n T_j(x_i) y_i \\quad{}\\forall j= 1, \\dots, n. $$\n",
    "\n",
    "En écrivant $M$ la matrice telle que $M c = y$ où $c$ est le vecteur de coefficient dans la base de Tchebychev et $y$ est le vecteur des ordonnées telles que $p_n(f)(x_i) = y_i$, montrer que le conditionnement en norme 2 de $M$ vaut  $\\sqrt{2}$."
   ]
  },
  {
   "cell_type": "markdown",
   "metadata": {},
   "source": [
    "2) a) Calculer numériquement le conditionnement en norme 2 de cette matrice $M$ pour un nombre de points $n = 2^1, 2^2, \\dots, 2^8$. \n",
    "\n",
    "*Indication :* On pourra utiliser la fonction numpy.linalg.cond de numpy.\n",
    "\n",
    "b) On cherche maintenant les coefficients du polynôme d'interpolation aux points équidistants dans la base des polynômes de Tchebychev. On écrit donc \n",
    "\n",
    "$$ p_n(f) = \\sum\\limits_{i=0}^n c_i T_i, $$\n",
    "\n",
    "tel que $p_n(f)(x_i) = y_i = \\sum\\limits_{j=1}^n L_{i,j} c_j$.\n",
    "\n",
    "- Calculer numériquement le conditionnement de la matrice $L$ pour un nombre de points $n = 2^1, 2^2, \\dots, 2^8$. \n",
    "- Tracer ce conditionnement $cond(L)$ en fonction du nombre de points $n$ en échelle log-log.\n",
    "- Comparer les conditionnements de ces deux méthodes et interpréter en lien avec le chapitre 2.\n",
    "\n",
    "*Indication :* On pourra utiliser les fonctions cos et arccos de numpy pour calculer les $L_{i,j}$ et la fonction cond pour le conditionnement."
   ]
  },
  {
   "cell_type": "code",
   "execution_count": 62,
   "metadata": {},
   "outputs": [],
   "source": [
    "# a)\n",
    "N      = 8\n",
    "\n",
    "\n",
    "# print(\"Conditionnement des matrices M :\\n\", cond_M)"
   ]
  },
  {
   "cell_type": "code",
   "execution_count": 63,
   "metadata": {},
   "outputs": [],
   "source": [
    "# b)\n",
    "N      = 8\n",
    "\n",
    "# print(\"Conditionnement des matrices L :\\n\", cond_L)"
   ]
  },
  {
   "cell_type": "code",
   "execution_count": 64,
   "metadata": {},
   "outputs": [],
   "source": [
    "# plt.figure()\n",
    "# plt.scatter(list_n, cond_L, label=\"cond\")\n",
    "# plt.yscale(\"log\")\n",
    "# plt.xscale(\"log\")\n",
    "# plt.legend()\n",
    "# plt.show()"
   ]
  },
  {
   "cell_type": "markdown",
   "metadata": {},
   "source": [
    "**Réponse :**\n",
    "\n"
   ]
  },
  {
   "cell_type": "markdown",
   "metadata": {},
   "source": [
    "---"
   ]
  },
  {
   "cell_type": "markdown",
   "metadata": {},
   "source": [
    "## Exercice 2 : Décomposition $QR$ et résolution de systèmes surdimensionnés\n",
    ">On considère dans cet exercice une matrice réelle $A$ de taille $m\\times n$, $m>n$, un vecteur $b\\in\\mathbb{R}^m$, et on cherche à \"résoudre\" le système\n",
    ">\n",
    ">$$ Ax=b,\\quad{} x\\in\\mathbb{R}^n. $$\n",
    ">\n",
    ">En pratique, un tel système n'a souvent pas de solution, et on cherche donc plutôt un $x$ qui minimise l'erreur :\n",
    ">\n",
    ">$$ \\left\\Vert Ax-b \\right\\Vert_2 = \\min_{y\\in\\mathbb{R}^n} \\left\\Vert Ay-b \\right\\Vert_2. \\qquad{} (1)$$\n",
    ">\n",
    ">On va pour cela utiliser une décomposition $QR$ de $A$, c'est à dire deux matrices $Q$ et $R$, respectivement orthogonale de taille $m\\times m$ et triangulaire de taille $m\\times n$, telles que $A=QR$."
   ]
  },
  {
   "cell_type": "markdown",
   "metadata": {},
   "source": [
    "### Question 1 \n",
    "\n",
    "On rappelle que si $Q$ est une matrice orthogonale, $Q^T Q=I$ et $\\left\\Vert Qy \\right\\Vert_2 = \\left\\Vert y \\right\\Vert_2$ pour tout vecteur $y$. En déduire une manière de trouver un vecteur $x$ satisfaisant (1) à l'aide de la factorisation $QR$ et la résolution d'un système triangulaire."
   ]
  },
  {
   "cell_type": "markdown",
   "metadata": {},
   "source": [
    "$\\| Ax - b \\|_2 = \\| QRx - B \\|_2 = \\| Q(Rx - Q^T b) \\|_2 = \\| Rx - Q^T b\\|_2 = \\left\\| \\left( \\begin{array}{cc} \\widetilde{R}x & -\\widetilde{Q^Tb} \\\\ 0 & -\\overline{Q^Tb} \\end{array}\\right) \\right \\|_2$\n",
    "\n",
    "$min = \\left\\| \\left ( \\begin{array}{c} 0 \\\\ \\overline{Q^Tb} \\end{array} \\right ) \\right \\|_2$ obtenu en $x = \\widetilde{R}^{-1} \\widetilde{Q^Tb}$"
   ]
  },
  {
   "cell_type": "markdown",
   "metadata": {},
   "source": [
    "### Question 2 \n",
    "\n",
    "**<font color=black><span style=\"background-color:skyblue\"> À rendre :</span></font>** Utiliser cette méthode pour résoudre le système surdimensionné $Bx=b$, avec \n",
    "\n",
    "$$\n",
    "    B=\\begin{pmatrix}\n",
    "      10 & 1 & 4  \\\\\n",
    "      1  & 3 & 5 \\\\\n",
    "      4 & 5  & 10 \\\\\n",
    "      2 & 5  & 6 \\\\\n",
    "      1 & 8  & 6 \\\\\n",
    "      5 & 9  & -4 \\\\\n",
    "      0 & -1 & 7 \n",
    "    \\end{pmatrix}\\quad{} \n",
    "    \\text{ et }\\quad{}\n",
    "    b = \\begin{pmatrix}\n",
    "    14\\\\15\\\\26\\\\28\\\\47\\\\70 \\\\-15\n",
    "    \\end{pmatrix}\n",
    "$$\n",
    "et vérifier la valeur de la norme $\\|A y - b\\|$ pour $y = x + e_i$ où $e_i = (1,0,0)^T$, $(0,1,0)^T$ et $(0,0,1)^T$.    \n",
    "\n",
    "*Indication :* Utiliser la fonction *numpy.linalg.qr.*"
   ]
  },
  {
   "cell_type": "code",
   "execution_count": 67,
   "metadata": {},
   "outputs": [
    {
     "name": "stdout",
     "output_type": "stream",
     "text": [
      "Solution : [ 1.210814    6.58773664 -1.18569127]\n",
      "B x = [ 13.95311155  15.04556758  25.92502652  28.24616359  46.79855952\n",
      "  70.08646483 -14.88757552], norme Bx-b 0.24616359344193128\n",
      "B y = [ 23.95311155  16.04556758  29.92502652  30.24616359  47.79855952\n",
      "  75.08646483 -14.88757552], norme By-b 9.9531115484906\n",
      "B y = [ 14.95311155  18.04556758  30.92502652  33.24616359  54.79855952\n",
      "  79.08646483 -15.88757552], norme By-b 9.086464831774421\n",
      "B y = [17.95311155 20.04556758 35.92502652 34.24616359 52.79855952 66.08646483\n",
      " -7.88757552], norme By-b 9.925026517302534\n"
     ]
    }
   ],
   "source": [
    "B = np.array([[10,1,4],[1,3,5],[4,5,10],[2,5,6],[1,8,6],[5,9,-4],[0,-1,7]])\n",
    "b = np.array([14,15,26,28,47,70,-15])\n",
    "\n",
    "n, m = B.shape\n",
    "\n",
    "Q, R = lin.qr(B, mode='complete')\n",
    "\n",
    "x = lin.pinv(R[0:m,:])@(Q.T@b)[0:m]\n",
    "\n",
    "print(f\"Solution : {x}\")\n",
    "print(f\"B x = {B@x}, norme Bx-b {lin.vector_norm(B@x - b, ord=np.inf)}\")\n",
    "for e in [np.array([1, 0, 0]), np.array([0, 1, 0]), np.array([0, 0, 1])]:\n",
    "    print(f\"B y = {B@(x + e)}, norme By-b {lin.vector_norm(B@(x + e) - b, ord=np.inf)}\")"
   ]
  },
  {
   "cell_type": "markdown",
   "metadata": {},
   "source": [
    "**Question 3 :** Une alternative à la décomposition QR consiste à résoudre l'équation normale\n",
    "µ\n",
    "$$ A^T A x = A^T b.$$\n",
    "\n",
    "Montrer que la solution de ce système est bien celle du problème (1)."
   ]
  },
  {
   "cell_type": "markdown",
   "metadata": {},
   "source": [
    "**Question 4 :** \n",
    "\n",
    "a) Montrer que si $A$ est de rang maximum alors $\\|A\\|_2 = \\sqrt{\\rho(A^T A)}$. \n",
    "\n",
    "b) En déduire une comparaison de la norme 2 des matrices $A$ et $A^T A$, ainsi qu'une comparaison de leur conditionnement lorsque $A$ est carrée.   \n",
    "\n",
    "c) Comparer les conditionnements des matrices à inverser dans la méthode QR et dans l'équation normale. \n",
    "\n",
    "**<font color=black><span style=\"background-color:skyblue\"> À rendre :</span></font>** d) Vérifier le numériquement sur la matrice $B$ par la méthode vu à l'exercice 1, et expliquer quelle méthode privilégier. "
   ]
  },
  {
   "cell_type": "code",
   "execution_count": 68,
   "metadata": {},
   "outputs": [
    {
     "name": "stdout",
     "output_type": "stream",
     "text": [
      "Conditionnement pour QR : 35792.39762878855 \n",
      "Conditionnement pour léquation normale : 1281095762.8551116\n"
     ]
    }
   ],
   "source": [
    "#d)\n",
    "\n",
    "Q, R = lin.qr(A, mode='complete')\n",
    "\n",
    "cond_QR     = lin.cond(R)*lin.cond(Q)\n",
    "\n",
    "cond_normal = lin.cond(A.T@A)\n",
    "\n",
    "print('Conditionnement pour QR :', cond_QR, '\\nConditionnement pour léquation normale :',  cond_normal)"
   ]
  },
  {
   "cell_type": "markdown",
   "metadata": {},
   "source": [
    "**Réponse :** d)\n",
    "\n",
    "En comparant les conditionnements, le conditionnements de la méthode QR est moindre. Alors, il faut la privilégier."
   ]
  },
  {
   "cell_type": "markdown",
   "metadata": {},
   "source": [
    "---"
   ]
  },
  {
   "cell_type": "markdown",
   "metadata": {},
   "source": [
    "## Exercice 3 : Stockage de matrice et Laplacien\n",
    "\n",
    ">L'objectif de cet exercice est d'adapter, dans le cas des matrices creuses (c'est à dire qui contiennent une majorité de zéros), les algorithmes de résolution de systèmes linéaires. On applique ici ces différentes méthodes pour la résolution des problèmes suivants\n",
    ">\n",
    ">$$\\begin{aligned} \\text{1D : }& \\left\\{ \\begin{array}{l} -\\Delta u(x)   = x^3        \\quad{} \\text{ si } x  \\in[0,1] \\\\ u(0  ) = 0 = u(1  ), \\end{array}\\right. \\qquad{} &(2)\\\\\n",
    "   \\text{2D : }& \\left\\{ \\begin{array}{l} -\\Delta u(x,y) = 5\\pi^2 \\sin(\\pi x)\\sin(2\\pi y)  \\quad{} \\text{ si } x,y\\in[0,1] \\\\ u(0,y) = 0 = u(1,y) = u(x,0) = u(x,1). \\end{array}\\right.\\qquad{} &(3) \\end{aligned}$$"
   ]
  },
  {
   "cell_type": "markdown",
   "metadata": {},
   "source": [
    "**<big> Cas 1D :</big>**\n",
    "\n",
    ">On considère une matrice $C$ tridiagonale, i.e. dont les seuls coefficients $C_{i,j}$ éventuellement non-nuls sont ceux tels que $|i-j| \\le 1$.\n",
    ">On écrit cette matrice $C$ sous la forme\n",
    ">\n",
    ">$$ C = \\left( \\begin{array}{cccccc}\n",
    "    a_1    & b_2    & 0       &\\dots   & 0 \\\\\n",
    "    c_1    & a_2    & b_3     & \\ddots& \\vdots  \\\\\n",
    "    0      & \\ddots & \\ddots &\\ddots  &0\\\\\n",
    "    \\vdots & \\ddots & \\ddots &\\ddots  & b_{N}\\\\\n",
    "    0      & \\dots  &  0   &   c_{N-1}  & a_N\n",
    "  \\end{array}\\right). $$\n",
    "> \n",
    ">Pour les applications numériques, on fixera \n",
    ">\n",
    ">$$ a_i = \\frac{2}{h^2}, \\quad{} b_i = -\\frac{1}{h^2} \\quad{} \\text{et} \\quad{} c_i = -\\frac{1}{h^2} \\quad{} \\text{avec} \\quad{} h = \\frac{1}{N+1}, \\quad{} N = 2048. \\qquad{}(4)$$\n",
    ">\n",
    ">Ici $h$ est un pas d'espace. Cette matrice correspond à une discrétisation de l'opérateur $-\\Delta$, dont la construction est donnée dans le cours et sera reprise plus tard en PC."
   ]
  },
  {
   "cell_type": "markdown",
   "metadata": {},
   "source": [
    "### Question 1 : Matrices pleines \n",
    "\n",
    "$1$. **<font color=black><span style=\"background-color:skyblue\"> À rendre :</span></font>** Implémenter une fonction qui renvoie la matrice $C$ de la discrétisation de $-\\Delta$ décrite en (4), pour un $N$ donné. Afficher le résultat obtenu pour $N=3$."
   ]
  },
  {
   "cell_type": "code",
   "execution_count": 11,
   "metadata": {},
   "outputs": [
    {
     "name": "stderr",
     "output_type": "stream",
     "text": [
      "<>:2: SyntaxWarning: invalid escape sequence '\\D'\n",
      "<>:2: SyntaxWarning: invalid escape sequence '\\D'\n",
      "C:\\Users\\ericg\\AppData\\Local\\Temp\\ipykernel_30592\\991912540.py:2: SyntaxWarning: invalid escape sequence '\\D'\n",
      "  \"\"\"\n"
     ]
    }
   ],
   "source": [
    "def moins_Laplacien_1D_plein(N):\n",
    "    \"\"\"\n",
    "    crée la matrice NxN correspondant à la discrétisation de -\\Delta en 1D\n",
    "    ----------   \n",
    "    parametre:\n",
    "    N   : taille de la matrice\n",
    "    \n",
    "    valeur de retour:\n",
    "    matrice de taille NxN\n",
    "    \"\"\"\n",
    "    h = 1/(N + 1)\n",
    "\n",
    "    a = 2/h**2\n",
    "    b = -1/h**2\n",
    "    c = -1/h**2\n",
    "\n",
    "    C = np.zeros((N, N))\n",
    "\n",
    "    np.fill_diagonal(C, a)\n",
    "    C[range(0, N - 1), range(1, N)] = b\n",
    "    C[range(1, N), range(0, N - 1)] = c\n",
    "\n",
    "    return C"
   ]
  },
  {
   "cell_type": "code",
   "execution_count": 80,
   "metadata": {},
   "outputs": [
    {
     "name": "stdout",
     "output_type": "stream",
     "text": [
      "Matrice du Laplacien :\n",
      "[[ 32. -16.   0.]\n",
      " [-16.  32. -16.]\n",
      " [  0. -16.  32.]]\n"
     ]
    }
   ],
   "source": [
    "# Tester votre fonction avec N = 3 \n",
    "N = 3\n",
    "\n",
    "print(f\"Matrice du Laplacien :\\n{moins_Laplacien_1D_plein(N)}\", )"
   ]
  },
  {
   "cell_type": "markdown",
   "metadata": {},
   "source": [
    "$2$. **<font color=black><span style=\"background-color:skyblue\"> À rendre :</span></font>** On utilisera ici les valeurs numériques données dans (4) :\n",
    "- Utiliser la fonction *lu_factor* de *scipy.linalg* pour construire deux matrices $L$ et $U$ respectivement triangulaire inférieure et supérieure telles que $C=LU$. \n",
    "- Afficher la valeur $\\max_{i,j}\\left|(C - L U)\\right|_{i,j}$ pour vérifier que les deux matrices sont bien identiques. \n",
    "\n",
    "*Indication :* On vérifiera dans la documentation ce que renvoie cette fonction."
   ]
  },
  {
   "cell_type": "code",
   "execution_count": 14,
   "metadata": {},
   "outputs": [
    {
     "name": "stdout",
     "output_type": "stream",
     "text": [
      "Valeur max : 0.0\n"
     ]
    }
   ],
   "source": [
    "N       = 2048\n",
    "\n",
    "C = moins_Laplacien_1D_plein(N)\n",
    "\n",
    "LU, P = lu_factor(C)\n",
    "L, U = np.tril(LU, k=-1) + np.eye(N), np.triu(LU)\n",
    "\n",
    "print(f\"Valeur max : {np.max(np.abs(C - L@U))}\")"
   ]
  },
  {
   "cell_type": "markdown",
   "metadata": {},
   "source": [
    "$3$. **<font color=black><span style=\"background-color:skyblue\"> À rendre :</span></font>** Résoudre $Cu=f$ avec $f_i = x_i^3$ où $x_i = ih$ pour $i=1,\\dots,N$ en utilisant la factorisation LU précédente et la fonction *lu\\_solve*.\n",
    "    Calculer la solution analytique $x\\mapsto u(x)$ du problème (2) et tracer les courbes $u(x_i)$ et $u_i$ en fonction de $x_i$. "
   ]
  },
  {
   "cell_type": "code",
   "execution_count": 15,
   "metadata": {},
   "outputs": [],
   "source": [
    "def second_membre_1D(N):\n",
    "    \"\"\"\n",
    "    crée le second membre de taille N en 1D, donne par f_i = f(x_i)\n",
    "    ----------   \n",
    "    parametre:\n",
    "    N   : taille du vecteur\n",
    "    \n",
    "    valeur de retour:\n",
    "    veteur de taille N\n",
    "    \"\"\"\n",
    "    h = 1/(N + 1)\n",
    "    f = (h*np.arange(1, N + 1, dtype=np.double))**3\n",
    "    return f"
   ]
  },
  {
   "cell_type": "code",
   "execution_count": 22,
   "metadata": {},
   "outputs": [
    {
     "data": {
      "image/png": "[encoded data removed]",
      "text/plain": [
       "<Figure size 640x480 with 1 Axes>"
      ]
     },
     "metadata": {},
     "output_type": "display_data"
    },
    {
     "data": {
      "image/png": "[encoded data removed]",
      "text/plain": [
       "<Figure size 640x480 with 1 Axes>"
      ]
     },
     "metadata": {},
     "output_type": "display_data"
    }
   ],
   "source": [
    "N = 2048\n",
    "\n",
    "h = 1/(N + 1)\n",
    "\n",
    "x = h*np.arange(1, N + 1, dtype=np.double)\n",
    "f = second_membre_1D(N)\n",
    "\n",
    "Uy = lin.solve(L, f)\n",
    "y = lin.solve(U, Uy)\n",
    "\n",
    "plt.figure()\n",
    "plt.plot(x,y)\n",
    "plt.xlabel(\"x\")\n",
    "plt.ylabel(\"second membre f(x)\")\n",
    "plt.show()\n",
    "\n",
    "sol = (x - x**5)/20\n",
    "\n",
    "plt.figure()\n",
    "plt.plot(x,sol)\n",
    "plt.xlabel(\"x\")\n",
    "plt.ylabel(\"solution u(x)\")\n",
    "plt.show()"
   ]
  },
  {
   "cell_type": "markdown",
   "metadata": {},
   "source": [
    "### Question 2 : Stockage tridiagonal \n",
    "    \n",
    "1) Supposons $L$ et $U$ tridiagonales et respectivement triangulaire inférieure et supérieure de la forme\n",
    "  \n",
    "$$ L = \\left( \\begin{array}{cccccc}\n",
    "    1       & 0     & \\dots  & \\dots    & 0 \\\\\n",
    "    \\gamma_1& 1     & \\ddots &          & \\vdots  \\\\\n",
    "    0       & \\ddots& \\ddots &\\ddots    & \\vdots \\\\\n",
    "    \\vdots  & \\ddots& \\ddots &\\ddots    & 0\\\\\n",
    "    0       & \\dots &  0     & \\gamma_{N-1} & 1\n",
    "  \\end{array}\\right), \\qquad{}\n",
    "  U = \\left( \\begin{array}{cccccc}\n",
    "    \\alpha_1&\\beta_2 &       0 & \\dots  & 0 \\\\\n",
    "    0       &\\alpha_2& \\beta_3 &\\ddots & \\vdots  \\\\\n",
    "    \\vdots  & \\ddots& \\ddots &\\ddots    & 0\\\\\n",
    "    \\vdots &       & \\ddots &\\ddots    & \\beta_{N}\\\\\n",
    "    0       & \\dots & \\dots  & 0 & \\alpha_N\n",
    "  \\end{array}\\right).$$\n",
    "  \n",
    "   Calculer les coefficients de la matrice produit $LU$ et en déduire la décomposition $LU$ d'une matrice tridiagonale $C$. \n",
    "  \n",
    "2) Combien d'opérations sont nécessaires pour calculer les coefficients de cette décomposition? Combien de coefficients sont stockés? \n",
    "\n",
    "3) De quel coefficients des matrices $C$, $L$ et $U$ a-t'on besoin pour calculer les $i$-emes coefficients $\\alpha_i$, $\\beta_i$ et $\\gamma_i$ des matrices $L$ et $U$? Proposer un ordre dans lequel faire les calculs pour que chaque coefficient $\\alpha_i$, $\\beta_i$ et $\\gamma_i$ ne dépendent que de coefficients connus, c'est-à-dire uniquement de la matrice $C$ et de coefficients de $L$ et $U$ déjà calculés."
   ]
  },
  {
   "cell_type": "markdown",
   "metadata": {},
   "source": [
    "4) **<font color=black><span style=\"background-color:deepskyblue\"> Bonus :</span></font>** Implémenter une fonction qui renvoie la discrétisation de $-\\Delta$ décrite en (4) en utilisant un stockage sous forme tridiagonale ou bande\n",
    " pour un $N$ donné, c'est à dire de la forme\n",
    " \n",
    "$$\\tilde{C} = \\left( \\begin{array}{c|c|c|c|c} 0 & b_{2} & \\dots & b_{N-1} & b_{N}\\\\ \\hline  a_{1} & a_{2} & \\dots & a_{N-1} & a_{N} \\\\ \\hline c_{1} & c_{2} & \\dots & c_{N-1} & 0 \\end{array} \\right) = \\left( \\begin{array}{l} b \\\\ a \\\\ c \\end{array}\\right) \\in \\mathbb{R}^{3,N},$$\n",
    " \n",
    "tel qu'on ne stocke que les composantes non-triviales de $C$.  Afficher le résultat obtenu pour $N=3$."
   ]
  },
  {
   "cell_type": "code",
   "execution_count": 23,
   "metadata": {},
   "outputs": [
    {
     "name": "stderr",
     "output_type": "stream",
     "text": [
      "<>:2: SyntaxWarning: invalid escape sequence '\\D'\n",
      "<>:2: SyntaxWarning: invalid escape sequence '\\D'\n",
      "C:\\Users\\ericg\\AppData\\Local\\Temp\\ipykernel_30592\\97628294.py:2: SyntaxWarning: invalid escape sequence '\\D'\n",
      "  \"\"\"\n"
     ]
    }
   ],
   "source": [
    "def moins_Laplacien_1D_tridiag(N):\n",
    "    \"\"\"\n",
    "    crée la matrice 3xN correspondant à la discrétisation de -\\Delta en 1D, en format tridiagonal\n",
    "    ----------   \n",
    "    parametre:\n",
    "    N   : taille de la matrice\n",
    "    \n",
    "    valeur de retour:\n",
    "    matrice de taille 3xN\n",
    "    \"\"\"\n",
    "    h = 1/(N + 1)\n",
    "\n",
    "    a = 2/h**2\n",
    "    b = -1/h**2\n",
    "    c = -1/h**2\n",
    "\n",
    "    C_tilde = np.zeros((3, N))\n",
    "    C_tilde[0, 1:] = b\n",
    "    C_tilde[1, :] = a\n",
    "    C_tilde[2, :-1] = c\n",
    "    return C_tilde"
   ]
  },
  {
   "cell_type": "code",
   "execution_count": 24,
   "metadata": {},
   "outputs": [
    {
     "name": "stdout",
     "output_type": "stream",
     "text": [
      "Laplacien au format bande :\n",
      "[[  0. -16. -16.]\n",
      " [ 32.  32.  32.]\n",
      " [-16. -16.   0.]]\n"
     ]
    }
   ],
   "source": [
    "# Test avec N=3\n",
    "N = 3\n",
    "\n",
    "print(f\"Laplacien au format bande :\\n{moins_Laplacien_1D_tridiag(N)}\")"
   ]
  },
  {
   "cell_type": "markdown",
   "metadata": {},
   "source": [
    "5) **<font color=black><span style=\"background-color:deepskyblue\"> Bonus :</span></font>** Résoudre le système $Cu = f$ avec les valeurs numériques (4) en utilisant la fonction *solve_banded* (https://docs.scipy.org/doc/scipy/reference/generated/scipy.linalg.solve_banded.html) de *scipy.linalg* qui résoud un système au format bande. \n",
    "\n",
    "Comparer la précision des résultats et les temps d'execution (en utilisant *%timeit*, un exemple vous est donné dans la cellule suivante) avec ceux obtenus avec la matrice pleine à la question 1. Commenter les avantages de ce stockage. "
   ]
  },
  {
   "cell_type": "code",
   "execution_count": 25,
   "metadata": {},
   "outputs": [
    {
     "name": "stdout",
     "output_type": "stream",
     "text": [
      "48 μs ± 1.25 μs per loop (mean ± std. dev. of 7 runs, 10,000 loops each)\n"
     ]
    }
   ],
   "source": [
    "N = 2**6\n",
    "A = np.array([[i**j for j in range(N)] for i in range(N)],dtype=float) + N * np.eye(N)\n",
    "b = np.ones(N)\n",
    "\n",
    "%timeit lin.solve(A,b)"
   ]
  },
  {
   "cell_type": "code",
   "execution_count": 27,
   "metadata": {},
   "outputs": [
    {
     "name": "stdout",
     "output_type": "stream",
     "text": [
      "Solution with the full matrix:\n",
      "285 ms ± 13.7 ms per loop (mean ± std. dev. of 7 runs, 1 loop each)\n",
      "\n",
      "Solution with banded matrix:\n",
      "77.8 μs ± 1.16 μs per loop (mean ± std. dev. of 7 runs, 10,000 loops each)\n"
     ]
    },
    {
     "data": {
      "image/png": "[encoded data removed]",
      "text/plain": [
       "<Figure size 640x480 with 1 Axes>"
      ]
     },
     "metadata": {},
     "output_type": "display_data"
    }
   ],
   "source": [
    "N = 2048\n",
    "\n",
    "C = moins_Laplacien_1D_plein(N)\n",
    "C_tilde = moins_Laplacien_1D_tridiag(N)\n",
    "\n",
    "f = second_membre_1D(N)\n",
    "\n",
    "print(\"Solution with the full matrix:\")\n",
    "%timeit y = lin.solve(C, f)\n",
    "\n",
    "print()\n",
    "print(\"Solution with banded matrix:\")\n",
    "%timeit sol = solve_banded((1, 1), C_tilde, f)\n",
    "\n",
    "plt.figure()\n",
    "plt.plot(x, sol, '-b', label='Banded Matrix')\n",
    "plt.plot(x, y, '--r', label='Full Matrix')\n",
    "plt.xlabel(\"x\")\n",
    "plt.ylabel(\"solution u(x)\")\n",
    "plt.legend()\n",
    "plt.show()"
   ]
  },
  {
   "cell_type": "markdown",
   "metadata": {},
   "source": [
    "**Réponse :**"
   ]
  },
  {
   "cell_type": "markdown",
   "metadata": {},
   "source": [
    "6) **<font color=black><span style=\"background-color:deepskyblue\"> Bonus :</span></font>** On va maintenant implémenter l'algorithme de décomposition LU basé sur un stockage tridiagonal de la matrice, c'est-à-dire qu'on ne stocke que les composantes non-triviales des matrices $C$, $L$ et $U$. On écrira pour cela\n",
    "\n",
    "$$\\tilde{L} = \\left( \\gamma_{1}, \\gamma_{2}, \\dots, \\gamma_{N-1}, 0 \\right) \\in\\mathbb{R}^{1,N}, \\qquad{}\n",
    "      \\tilde{U} = \\left( \\begin{array}{c|c|c|c|c} 0 & \\beta_2 &  \\dots & \\beta_{N-1}& \\beta_{N} \\\\ \\hline \\alpha_{1} & \\alpha_{2} & \\dots & \\alpha_{N-1} & \\alpha_{N} \\end{array} \\right) \\in\\mathbb{R}^{2,N}. \\qquad{} (5)$$\n",
    "      \n",
    "Tester votre algorithme sur la matrice \n",
    "  \n",
    "$$C = \\left(\\begin{array}{ccc} 2 & 1 & 0 \\\\ -1 & 3 & 1 \\\\ 0 & 1 & 4 \\end{array}\\right). \\qquad{}(6) $$\n",
    "\n",
    "*Afin de valider le résultat, on pourra rentransformer les matrices $\\tilde{L}$ et $\\tilde{U}$ obtenues en matrices pleines, et vérifier que leur produit redonne bien C.*"
   ]
  },
  {
   "cell_type": "code",
   "execution_count": 29,
   "metadata": {},
   "outputs": [],
   "source": [
    "def tridiag_factorize_lu(C):\n",
    "    \"\"\"\"\n",
    "    calcule la factorisation LU d'une matrice stockée en format tridiagonal\n",
    "    ----------   \n",
    "    parametres:\n",
    "    C   : matrice de taille 3xN, correspondant au stockage tridiagonal d'une matrice NxN\n",
    "    \n",
    "    valeur de retour:\n",
    "    les matrices L et U, de taille 1xN et 2xN respectivement\n",
    "    \"\"\"\n",
    "    N = C.shape[0]\n",
    "    L = np.zeros(N)\n",
    "    U = np.zeros((2, N))\n",
    "\n",
    "    U[0, 1:] = np.diag(C, k=1)\n",
    "\n",
    "    U[1, 0] = C[0, 0] # alpha1\n",
    "    for i in range(1, N):\n",
    "        L[i - 1] = C[i, i - 1]/U[1, i - 1] # gamma i\n",
    "        U[1, i] = C[i, i] - U[0, i]*L[i - 1] # alpha i+1\n",
    "\n",
    "\n",
    "    return L, U"
   ]
  },
  {
   "cell_type": "code",
   "execution_count": 39,
   "metadata": {},
   "outputs": [
    {
     "name": "stdout",
     "output_type": "stream",
     "text": [
      "L calculé :\n",
      " [-0.5         0.28571429  0.        ] \n",
      "U calculé :\n",
      " [[0.         1.         1.        ]\n",
      " [2.         3.5        3.71428571]] \n",
      "\n",
      "comparaison : LU scipy :\n",
      " [[ 2.          1.          0.        ]\n",
      " [-0.5         3.5         1.        ]\n",
      " [ 0.          0.28571429  3.71428571]]\n",
      "\n"
     ]
    }
   ],
   "source": [
    "C = np.array(\n",
    "    [[2, 1, 0],\n",
    "    [-1, 3, 1],\n",
    "    [0, 1, 4]], dtype=np.double\n",
    ")\n",
    "\n",
    "L_tilde, U_tilde = tridiag_factorize_lu(C)\n",
    "\n",
    "LU, P = lu_factor(C)\n",
    " \n",
    "print(f\"L calculé :\\n {L_tilde} \")\n",
    "print(f\"U calculé :\\n {U_tilde} \\n\")\n",
    "print(f\"comparaison : LU scipy :\\n {LU}\\n\")"
   ]
  },
  {
   "cell_type": "markdown",
   "metadata": {},
   "source": [
    "7) **<font color=black><span style=\"background-color:deepskyblue\"> Bonus :</span></font>** Adapter et implémenter les algorithmes de remontée et de descente adaptés aux matrices triangulaires stockées sous forme (5). Tester votre algorithme pour la résolution de $C u = f$ avec $C$ donnée en (6) et $f = (1,\\ 1,\\ 1)^T$, en utilisant la décomposition $LU$ de $C$ obtenue à la question précédente."
   ]
  },
  {
   "cell_type": "code",
   "execution_count": 58,
   "metadata": {},
   "outputs": [],
   "source": [
    "def descente(L, b):\n",
    "    \"\"\"\n",
    "    résout le système linéaire Ly=b, L provenant de la factorisation LU d'une matrice au format tridiagonal\n",
    "    ----------   \n",
    "    parametre:\n",
    "    L   : matrice de taille 1xN\n",
    "    b   : vecteur de taille N\n",
    "    \n",
    "    valeur de retour:\n",
    "    y   : vecteur de taille N\n",
    "    \"\"\"\n",
    "    y = b.copy()\n",
    "    for i in range(1, y.size):\n",
    "        y[i] -= L[i - 1]*y[i - 1]\n",
    "    return y\n",
    "\n",
    "\n",
    "def remontee(U, y):\n",
    "    \"\"\"\n",
    "    résout le système linéaire Ux=y, U provenant de la factorisation LU d'une matrice au format tridiagonal\n",
    "    ----------   \n",
    "    parametre:\n",
    "    U   : matrice de taille 2xN\n",
    "    y   : vecteur de taille N\n",
    "    \n",
    "    valeur de retour:\n",
    "    x   : vecteur de taille N\n",
    "    \"\"\"\n",
    "    x = np.zeros_like(y)\n",
    "    x[-1] = y[-1]/U[1, -1]\n",
    "\n",
    "    for i in range(x.size - 2, -1, -1):\n",
    "        x[i] = (y[i] - U[0, i + 1]*x[i + 1])/U[1, i]\n",
    "    return x"
   ]
  },
  {
   "cell_type": "code",
   "execution_count": 60,
   "metadata": {},
   "outputs": [
    {
     "name": "stdout",
     "output_type": "stream",
     "text": [
      "solution de L y = b:\n",
      "[1.         1.5        0.57142857]\n",
      "\n",
      "produit L y:\n",
      "[1. 1. 1.]\n",
      "\n",
      "RHS:\n",
      "[1. 1. 1.]\n",
      "\n",
      "solution U x = y:\n",
      "[0.30769231 0.38461538 0.15384615]\n",
      "\n",
      "produit U x:\n",
      "[1.         1.5        0.57142857]\n",
      "\n",
      "RHS:\n",
      "[1.         1.5        0.57142857]\n",
      "\n"
     ]
    }
   ],
   "source": [
    "b    = np.ones(3)\n",
    "C = np.array(\n",
    "    [[2, 1, 0],\n",
    "    [-1, 3, 1],\n",
    "    [0, 1, 4]], dtype=np.double\n",
    ")\n",
    "\n",
    "N = C.shape[0]\n",
    "\n",
    "L_tilde, U_tilde = tridiag_factorize_lu(C)\n",
    "y_L = descente(L_tilde, b)\n",
    "\n",
    "L = np.eye(N)\n",
    "L[range(1, N), range(0, N - 1)] = L_tilde[:-1]\n",
    "\n",
    "print(f\"solution de L y = b:\\n{y_L}\\n\")\n",
    "print(f\"produit L y:\\n{L@y_L}\\n\")\n",
    "print(f\"RHS:\\n{b}\\n\")\n",
    "\n",
    "x_U = remontee(U_tilde, y_L)\n",
    "\n",
    "U = np.zeros_like(C)\n",
    "np.fill_diagonal(U, U_tilde[1,:])\n",
    "U[range(0, N - 1), range(1, N)] = U_tilde[0,1:]\n",
    "\n",
    "\n",
    "print(f\"solution U x = y:\\n{x_U}\\n\")\n",
    "print(f\"produit U x:\\n{U@x_U}\\n\")\n",
    "print(f\"RHS:\\n{y_L}\\n\")"
   ]
  },
  {
   "cell_type": "markdown",
   "metadata": {},
   "source": [
    "**<big>Cas 2D :</big>**\n",
    "\n",
    ">On considère maintenant une matrice bande, i.e. dont les seuls coefficients $C_{i,j}$ éventuellement non-nuls sont ceux tels que $|i-j| \\le K$, où $K>0$ est appelée la largeur de bande.\n",
    ">\n",
    ">On utilisera pour les applications numériques la matrice $C \\in \\mathbb{R}^{N^2\\times N^2}$ définie par\n",
    ">\n",
    ">$$\n",
    "    C = \\left( \\begin{array}{c|c|c|c|c}\n",
    "      D    & -I/h^2    &0 &\\dots   & 0 \\\\ \\hline\n",
    "      -I/h^2    & D    & \\ddots&  \\ddots &\\vdots  \\\\ \\hline\n",
    "      0    &  \\ddots   & \\ddots & \\ddots& 0  \\\\ \\hline\n",
    "      \\vdots   & \\ddots &\\ddots & \\ddots &-I/h^2\\\\ \\hline\n",
    "      0      & \\dots & 0 &   -I/h^2  & D\n",
    "    \\end{array}\\right), \\quad{}\n",
    "    D = \\left( \\begin{array}{ccccc}\n",
    "      4/h^2    & -1/h^2  & 0  & \\dots   & 0 \\\\\n",
    "      -1/h^2    & 4/h^2    & \\ddots& \\ddots& \\vdots  \\\\   \n",
    "      0      & \\ddots & \\ddots & \\ddots  & 0\\\\\n",
    "      \\vdots & \\ddots & \\ddots  & \\ddots & -1/h^2\\\\\n",
    "      0      & \\dots  & 0 & -1/h^2  & 4/h^2\n",
    "    \\end{array}\\right) \\in\\mathbb{R}^{N\\times N},\n",
    "    \\qquad{} (7)\n",
    "$$\n",
    ">\n",
    ">où $I$ est la matrice identité de taille $N$ et $h = \\frac{1}{N+1}$. Cette matrice correspond à une discrétisation de l'opérateur $-\\Delta$ en 2D. Pour les applications, on prendra $N=64$."
   ]
  },
  {
   "cell_type": "markdown",
   "metadata": {},
   "source": [
    "### Question 3 : Matrices pleines \n",
    "\n",
    "$1$. **<font color=black><span style=\"background-color:deepskyblue\"> Bonus :</span></font>** Implémenter une fonction qui renvoie la discrétisation de $-\\Delta$ en dimension 2 décrite en (7), pour un $N$ donné. Afficher le résultat obtenu pour $N=3$. "
   ]
  },
  {
   "cell_type": "code",
   "execution_count": 68,
   "metadata": {},
   "outputs": [
    {
     "name": "stderr",
     "output_type": "stream",
     "text": [
      "<>:2: SyntaxWarning: invalid escape sequence '\\D'\n",
      "<>:2: SyntaxWarning: invalid escape sequence '\\D'\n",
      "C:\\Users\\ericg\\AppData\\Local\\Temp\\ipykernel_30592\\4214089105.py:2: SyntaxWarning: invalid escape sequence '\\D'\n",
      "  \"\"\"\n"
     ]
    }
   ],
   "source": [
    "def moins_Laplacien_2D_plein(N):\n",
    "    \"\"\"\n",
    "    crée la matrice N^2xN^2 correspondant à la discrétisation de -\\Delta en 2D\n",
    "    ----------   \n",
    "    parametre:\n",
    "    N   : taille de la matrice\n",
    "    \n",
    "    valeur de retour:\n",
    "    matrice de taille N^2xN^2\n",
    "    \"\"\"\n",
    "    h = 1/(N + 1)\n",
    "\n",
    "    D = np.zeros((N, N))\n",
    "    np.fill_diagonal(D, 4/h**2)\n",
    "    D[range(0, N - 1), range(1, N)] = (-1/h**2)\n",
    "    D[range(1, N), range(0, N - 1)] = (-1/h**2)\n",
    "\n",
    "    C = np.zeros((N**2, N**2))\n",
    "    for i in range(0, N**2, N):\n",
    "        C[i:i+N, i:i+N] = D\n",
    "    \n",
    "    C[range(N, N**2), range(0,N*(N-1))] = (-1/h**2)\n",
    "    C[range(0,N*(N-1)), range(N, N**2)] = (-1/h**2)\n",
    "    \n",
    "    \n",
    "    return C\n"
   ]
  },
  {
   "cell_type": "code",
   "execution_count": 69,
   "metadata": {},
   "outputs": [
    {
     "name": "stdout",
     "output_type": "stream",
     "text": [
      "Laplacien 2D :\n",
      "[[ 64. -16.   0. -16.   0.   0.   0.   0.   0.]\n",
      " [-16.  64. -16.   0. -16.   0.   0.   0.   0.]\n",
      " [  0. -16.  64.   0.   0. -16.   0.   0.   0.]\n",
      " [-16.   0.   0.  64. -16.   0. -16.   0.   0.]\n",
      " [  0. -16.   0. -16.  64. -16.   0. -16.   0.]\n",
      " [  0.   0. -16.   0. -16.  64.   0.   0. -16.]\n",
      " [  0.   0.   0. -16.   0.   0.  64. -16.   0.]\n",
      " [  0.   0.   0.   0. -16.   0. -16.  64. -16.]\n",
      " [  0.   0.   0.   0.   0. -16.   0. -16.  64.]]\n"
     ]
    }
   ],
   "source": [
    "N = 3\n",
    "\n",
    "C = moins_Laplacien_2D_plein(N)\n",
    "\n",
    "print(f\"Laplacien 2D :\\n{C}\")"
   ]
  },
  {
   "cell_type": "markdown",
   "metadata": {},
   "source": [
    "$2$. **<font color=black><span style=\"background-color:deepskyblue\"> Bonus :</span></font>** \n",
    "- En utilisant la fonction *solve* de *numpy.linalg*, résoudre le système $Cu = f$ avec $f_{(i-1)N+j} = f(x_i,y_j) = 5\\pi^2 \\sin(\\pi x_i)\\sin(2\\pi y_j)$ où $x_i = ih$ et $y_j = jh$ pour $i,j=1,\\dots,N$. \n",
    "- Vérifier que $u(x,y) = \\sin(\\pi x)\\sin(2\\pi y)$ est solution du problème (3).\n",
    "- Tracer les fonctions $u$ théorique et numérique avec la fonction *contourf*.\n",
    "- Calculer l'erreur avec le vecteur obtenu. \n",
    "- Commenter la taille de la matrice $A$ stockée (**sauvegarder avant d'executer**). "
   ]
  },
  {
   "cell_type": "code",
   "execution_count": 82,
   "metadata": {},
   "outputs": [],
   "source": [
    "def second_membre_2D(N):\n",
    "    \"\"\"\n",
    "    crée le second membre de taille N^2 en 2D, donne par f_i = f(x_i)\n",
    "    les coposantes sont stockées sous la forme \n",
    "    f(x_0,y_0), ..., f(x_{N-1},y_0), f(x_0, y_1), ..., f(x_{N-1},y_1)...\n",
    "    ----------   \n",
    "    parametre:\n",
    "    N   : taille du vecteur \n",
    "    \n",
    "    valeur de retour:\n",
    "    vecteur de taille N^2\n",
    "    \"\"\"\n",
    "    h = 1/(N+1)\n",
    "    x = h*np.arange(1, N+1)\n",
    "\n",
    "    f = np.ones((N, N))\n",
    "    f = (5*np.pi**2)*(f*np.sin(np.pi*x[:, None]))*np.sin(2*np.pi*x)\n",
    "    \n",
    "    return f.flatten()"
   ]
  },
  {
   "cell_type": "code",
   "execution_count": 83,
   "metadata": {},
   "outputs": [
    {
     "name": "stdout",
     "output_type": "stream",
     "text": [
      "2nd membre :\n",
      "[ 3.48943210e+01  4.27332185e-15 -3.48943210e+01  4.93480220e+01\n",
      "  6.04338972e-15 -4.93480220e+01  3.48943210e+01  4.27332185e-15\n",
      " -3.48943210e+01]\n"
     ]
    }
   ],
   "source": [
    "N = 3\n",
    "\n",
    "f = second_membre_2D(N)\n",
    "\n",
    "print(f\"2nd membre :\\n{f}\")"
   ]
  },
  {
   "cell_type": "code",
   "execution_count": 90,
   "metadata": {},
   "outputs": [
    {
     "data": {
      "image/png": "[encoded data removed]",
      "text/plain": [
       "<Figure size 640x480 with 2 Axes>"
      ]
     },
     "metadata": {},
     "output_type": "display_data"
    },
    {
     "data": {
      "image/png": "[encoded data removed]",
      "text/plain": [
       "<Figure size 640x480 with 2 Axes>"
      ]
     },
     "metadata": {},
     "output_type": "display_data"
    },
    {
     "data": {
      "image/png": "[encoded data removed]",
      "text/plain": [
       "<Figure size 640x480 with 2 Axes>"
      ]
     },
     "metadata": {},
     "output_type": "display_data"
    }
   ],
   "source": [
    "N          = 64\n",
    "\n",
    "C = moins_Laplacien_2D_plein(N)\n",
    "f = second_membre_2D(N)\n",
    "u = lin.solve(C, f)\n",
    "\n",
    "nx     = N\n",
    "ny     = N\n",
    "dx     = 1./(nx+1)\n",
    "dy     = 1./(ny+1)\n",
    "x      = np.linspace(1,nx,nx)*dx\n",
    "y      = np.linspace(1,ny,ny)*dy\n",
    "xx, yy = np.meshgrid(x, y, indexing='xy')\n",
    "\n",
    "u_theory = np.sin(np.pi*xx)*np.sin(2*np.pi*yy)\n",
    "\n",
    "plt.figure()\n",
    "plt.title(\"Theoric Solution\")\n",
    "plt.contourf(xx,yy, u_theory)\n",
    "plt.colorbar()\n",
    "plt.show()\n",
    "\n",
    "plt.figure()\n",
    "plt.title(\"Numeric Solution\")\n",
    "plt.contourf(xx,yy, u.reshape((N, N), order='F'))\n",
    "plt.colorbar()\n",
    "plt.show()\n",
    "\n",
    "plt.figure()\n",
    "plt.title(\"Error\")\n",
    "plt.contourf(xx,yy, np.abs(u_theory - u.reshape((N, N), order='F')))\n",
    "plt.colorbar()\n",
    "plt.show()\n"
   ]
  },
  {
   "cell_type": "markdown",
   "metadata": {},
   "source": [
    "**Réponse :**\n",
    "\n",
    "$u(x,y) = \\sin(\\pi x)\\sin(2\\pi y)$\n",
    "\n",
    "\\begin{cases}\n",
    "u(0, y) = \\sin(0)\\sin(2\\pi y) = 0 \\\\\n",
    "u(1, y) = \\sin(\\pi)\\sin(2\\pi y) = 0 \\\\\n",
    "u(x, 0) = \\sin(\\pi x)\\sin(0) = 0 \\\\\n",
    "u(x, 1) = \\sin(\\pi x)\\sin(2\\pi) = 0 \n",
    "\\end{cases}\n",
    "\n",
    "$\\frac{\\partial^2 u}{\\partial x^2} = -\\pi^2\\sin(\\pi x)\\sin(2\\pi y)$ et $\\frac{\\partial^2 u}{\\partial y^2} = -4\\pi^2\\sin(\\pi x)\\sin(2\\pi y)$\n",
    "\n",
    "$$\\therefore -\\Delta u(x,y) = -\\frac{\\partial^2 u}{\\partial x^2} - \\frac{\\partial^2 u}{\\partial y^2} = 5\\pi^2 \\sin(\\pi x)\\sin(2\\pi y)$$\n",
    "\n",
    "On vérifie alors que $u$ est solution de (3).\n",
    "\n",
    "La matrice stockée a $(N^2)\\cdot(N^2) = N^4 = 2^24 = 16\\,777\\,216$ élements.\n",
    "\n",
    "Chaque élement est un double, alors consome $8$ bytes. Alors, la matrice consume au moins 128 MB."
   ]
  },
  {
   "cell_type": "markdown",
   "metadata": {},
   "source": [
    "### Question 4 : Matrices bandes\n",
    "\n",
    "On stocke désormais la matrice sous forme bande, c'est-à-dire qu'on écrit \n",
    "\n",
    "$$\\tilde{C} = \\left(\n",
    "      \\begin{array}{c|c|c|c|c|c}\n",
    "        0             & \\dots & 0        & C_{1,K+1} & \\dots   & C_{N-K,N}\\\\\n",
    "        \\hline \\vdots & \\ddots & \\ddots & C_{2,K+1} &\\dots   & C_{N-K+1,N}\\\\\n",
    "        \\hline 0      & C_{1,2} &          &          &         & \\vdots    \\\\\n",
    "        \\hline C_{1,1} & C_{2,2} & \\dots  & \\dots     & \\dots   & C_{N,N} \\\\\n",
    "        \\hline C_{2,1} & C_{3,2} & \\dots   & \\dots    & C_{N,N-1} & 0 \\\\\n",
    "        \\hline \\vdots &        &         &          &         & \\vdots \\\\\n",
    "        \\hline C_{K+1,1} & \\dots & C_{N,N-K} & 0       & \\dots   &  0\n",
    "      \\end{array} \\right) \\in \\mathbb{R}^{2K+1,N}.$$\n",
    "      \n",
    "Utiliser la fonction *solve\\_banded* de *scipy* exploitant cette structure bande pour résoudre le problème $Au = f$. Comparer la vitesse d'execution (avec %timeit) et la taille de la matrice utilisée avec la question précédente."
   ]
  },
  {
   "cell_type": "code",
   "execution_count": null,
   "metadata": {},
   "outputs": [],
   "source": [
    "def moins_Laplacien_2D_bande(N):\n",
    "    \"\"\"\n",
    "    crée la matrice correspondant à la discrétisation de -\\Delta en 2D sous format bande\n",
    "    ----------   \n",
    "    parametre:\n",
    "    N   : taille de la matrice\n",
    "    \n",
    "    valeur de retour:\n",
    "    matrice de taille N^2xN^2 sous format bande\n",
    "    \"\"\" \n",
    "  \n",
    "    return "
   ]
  },
  {
   "cell_type": "code",
   "execution_count": null,
   "metadata": {},
   "outputs": [],
   "source": [
    "N               = 64\n",
    "\n",
    "\n",
    "\n",
    "\n",
    "nx     = N\n",
    "ny     = N\n",
    "dx     = 1./(nx+1)\n",
    "dy     = 1./(ny+1)\n",
    "x      = np.linspace(1,nx,nx)*dx\n",
    "y      = np.linspace(1,ny,ny)*dy\n",
    "xx, yy = np.meshgrid(x, y, indexing='xy')\n",
    "\n",
    "plt.figure()\n",
    "plt.contourf(xx,yy, )\n",
    "plt.colorbar()\n",
    "plt.show()\n",
    "\n",
    "plt.figure()\n",
    "plt.contourf(xx,yy, )\n",
    "plt.colorbar()\n",
    "plt.show()"
   ]
  },
  {
   "cell_type": "code",
   "execution_count": null,
   "metadata": {},
   "outputs": [],
   "source": []
  }
 ],
 "metadata": {
  "@webio": {
   "lastCommId": null,
   "lastKernelId": null
  },
  "kernelspec": {
   "display_name": "Python 3 (ipykernel)",
   "language": "python",
   "name": "python3"
  },
  "language_info": {
   "codemirror_mode": {
    "name": "ipython",
    "version": 3
   },
   "file_extension": ".py",
   "mimetype": "text/x-python",
   "name": "python",
   "nbconvert_exporter": "python",
   "pygments_lexer": "ipython3",
   "version": "3.12.3"
  },
  "latex_envs": {
   "LaTeX_envs_menu_present": true,
   "autoclose": false,
   "autocomplete": true,
   "bibliofile": "biblio.bib",
   "cite_by": "apalike",
   "current_citInitial": 1,
   "eqLabelWithNumbers": true,
   "eqNumInitial": 1,
   "hotkeys": {
    "equation": "Ctrl-E",
    "itemize": "Ctrl-I"
   },
   "labels_anchors": false,
   "latex_user_defs": false,
   "report_style_numbering": false,
   "user_envs_cfg": false
  },
  "toc": {
   "base_numbering": 1,
   "nav_menu": {},
   "number_sections": false,
   "sideBar": true,
   "skip_h1_title": false,
   "title_cell": "Table of Contents",
   "title_sidebar": "Contents",
   "toc_cell": false,
   "toc_position": {},
   "toc_section_display": true,
   "toc_window_display": false
  }
 },
 "nbformat": 4,
 "nbformat_minor": 4
}
